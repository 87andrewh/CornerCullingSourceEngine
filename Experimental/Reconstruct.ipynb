{
 "cells": [
  {
   "cell_type": "code",
   "execution_count": 1,
   "metadata": {},
   "outputs": [],
   "source": [
    "import open3d as o3d\n",
    "import numpy as np\n",
    "import matplotlib.pyplot as plt\n",
    "import os\n",
    "import sys\n",
    "import copy"
   ]
  },
  {
   "cell_type": "code",
   "execution_count": 2,
   "metadata": {},
   "outputs": [
    {
     "name": "stdout",
     "output_type": "stream",
     "text": [
      "PointCloud with 1206994 points.\n"
     ]
    }
   ],
   "source": [
    "pcd = o3d.io.read_point_cloud(\"C:/Program Files (x86)/Steam/steamapps/common/SteamCMD/csgo-ds/csgo/test.xyz\", format='xyzn')\n",
    "print(pcd)\n",
    "#o3d.visualization.draw_geometries([pcd])"
   ]
  },
  {
   "cell_type": "code",
   "execution_count": 3,
   "metadata": {},
   "outputs": [
    {
     "name": "stdout",
     "output_type": "stream",
     "text": [
      "run Poisson surface reconstruction\n",
      "[Open3D DEBUG] Input Points / Samples: 1206994 / 1124086\n",
      "[Open3D DEBUG] #   Got kernel density: 0.521 (s), 504.168 (MB) / 504.168 (MB) / 504 (MB)\n",
      "[Open3D DEBUG] #     Got normal field: 2.643 (s), 1018.32 (MB) / 1018.32 (MB) / 1018 (MB)\n",
      "[Open3D DEBUG] Point weight / Estimated Area: 3.004413e-06 / 3.626308e+00\n",
      "[Open3D DEBUG] #       Finalized tree: 2.60500 (s), 1362.31 (MB) / 1362.31 (MB) / 1566 (MB)\n",
      "[Open3D DEBUG] #  Set FEM constraints: 8.165 (s), 1143.81 (MB) / 1362.31 (MB) / 1566 (MB)\n",
      "[Open3D DEBUG] #Set point constraints: 1.15 (s), 1039.55 (MB) / 1362.31 (MB) / 1566 (MB)\n",
      "[Open3D DEBUG] Leaf Nodes / Active Nodes / Ghost Nodes: 13961942 / 15531504 / 425001\n",
      "[Open3D DEBUG] Memory Usage: 1039.566 MB\n",
      "[Open3D DEBUG] # Linear system solved: 13.281 (s), 1552.2 (MB) / 1552.2 (MB) / 1566 (MB)\n",
      "[Open3D DEBUG] Got average: 0.324 (s), 1008.48 (MB) / 1552.2 (MB) / 1566 (MB)\n",
      "[Open3D DEBUG] Iso-Value: 5.021038e-01 = 6.060363e+05 / 1.206994e+06\n",
      "[Open3D DEBUG] #          Total Solve:      49.5 (s),    2065.8 (MB)\n",
      "TriangleMesh with 2980394 points and 5963186 triangles.\n"
     ]
    }
   ],
   "source": [
    "print('run Poisson surface reconstruction')\n",
    "with o3d.utility.VerbosityContextManager(o3d.utility.VerbosityLevel.Debug) as cm:\n",
    "    mesh, densities = o3d.geometry.TriangleMesh.create_from_point_cloud_poisson(pcd, depth=10)\n",
    "print(mesh)"
   ]
  },
  {
   "cell_type": "code",
   "execution_count": 4,
   "metadata": {},
   "outputs": [],
   "source": [
    "mesh.compute_vertex_normals()\n",
    "mesh.paint_uniform_color(np.array([0.9, 0.8, 0.8]))\n",
    "o3d.visualization.draw_geometries([mesh])"
   ]
  },
  {
   "cell_type": "code",
   "execution_count": 5,
   "metadata": {},
   "outputs": [],
   "source": [
    "z_min = -240\n",
    "z_max = 280\n",
    "\n",
    "zs = np.asarray(mesh.vertices)[:, 2]\n",
    "mask = (zs > z_max) | (zs < z_min)\n",
    "\n",
    "mesh.remove_vertices_by_mask(mask)"
   ]
  },
  {
   "cell_type": "code",
   "execution_count": 6,
   "metadata": {},
   "outputs": [
    {
     "name": "stdout",
     "output_type": "stream",
     "text": [
      "Simplify mesh\n"
     ]
    }
   ],
   "source": [
    "print(\"Simplify mesh. Might take a while.\")\n",
    "with o3d.utility.VerbosityContextManager(o3d.utility.VerbosityLevel.Debug) as cm:\n",
    "    mesh = mesh.simplify_quadric_decimation(500000)"
   ]
  },
  {
   "cell_type": "code",
   "execution_count": 7,
   "metadata": {},
   "outputs": [
    {
     "name": "stdout",
     "output_type": "stream",
     "text": [
      "Cluster connected triangles\n",
      "[Open3D DEBUG] [ClusterConnectedTriangles] Compute triangle adjacency\n",
      "[Open3D DEBUG] [ClusterConnectedTriangles] Done computing triangle adjacency\n",
      "[Open3D DEBUG] [ClusterConnectedTriangles] Done clustering, #clusters=97\n",
      "Remove small clusters\n"
     ]
    }
   ],
   "source": [
    "print(\"Cluster connected triangles\")\n",
    "with o3d.utility.VerbosityContextManager(o3d.utility.VerbosityLevel.Debug) as cm:\n",
    "    triangle_clusters, cluster_n_triangles, cluster_area = mesh.cluster_connected_triangles()\n",
    "triangle_clusters = np.asarray(triangle_clusters)\n",
    "cluster_n_triangles = np.asarray(cluster_n_triangles)\n",
    "cluster_area = np.asarray(cluster_area)\n",
    "\n",
    "print(\"Remove small clusters\")\n",
    "triangles_to_remove = cluster_n_triangles[triangle_clusters] < 200\n",
    "mesh.remove_triangles_by_mask(triangles_to_remove)"
   ]
  },
  {
   "cell_type": "code",
   "execution_count": 8,
   "metadata": {},
   "outputs": [
    {
     "name": "stdout",
     "output_type": "stream",
     "text": [
      "TriangleMesh with 252963 points and 498329 triangles.\n"
     ]
    }
   ],
   "source": [
    "print(mesh)\n",
    "o3d.visualization.draw_geometries([mesh])"
   ]
  },
  {
   "cell_type": "code",
   "execution_count": null,
   "metadata": {},
   "outputs": [],
   "source": []
  }
 ],
 "metadata": {
  "kernelspec": {
   "display_name": "Python 3",
   "language": "python",
   "name": "python3"
  },
  "language_info": {
   "codemirror_mode": {
    "name": "ipython",
    "version": 3
   },
   "file_extension": ".py",
   "mimetype": "text/x-python",
   "name": "python",
   "nbconvert_exporter": "python",
   "pygments_lexer": "ipython3",
   "version": "3.7.8"
  }
 },
 "nbformat": 4,
 "nbformat_minor": 4
}
