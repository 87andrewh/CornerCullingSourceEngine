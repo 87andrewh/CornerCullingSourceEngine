{
 "cells": [
  {
   "cell_type": "code",
   "execution_count": 8,
   "metadata": {},
   "outputs": [],
   "source": [
    "import open3d as o3d\n",
    "import numpy as np\n",
    "import matplotlib.pyplot as plt\n",
    "import os\n",
    "import sys"
   ]
  },
  {
   "cell_type": "code",
   "execution_count": 9,
   "metadata": {},
   "outputs": [],
   "source": [
    "pcd = o3d.io.read_point_cloud(\"C:/Program Files (x86)/Steam/steamapps/common/SteamCMD/csgo-ds/csgo/test.xyz\", format='xyzn')\n",
    "o3d.visualization.draw_geometries([pcd])"
   ]
  },
  {
   "cell_type": "code",
   "execution_count": 10,
   "metadata": {},
   "outputs": [
    {
     "name": "stdout",
     "output_type": "stream",
     "text": [
      "run Poisson surface reconstruction\n",
      "[Open3D DEBUG] Input Points / Samples: 1206994 / 1159530\n",
      "[Open3D DEBUG] #   Got kernel density: 1.288 (s), 999.008 (MB) / 999.008 (MB) / 999 (MB)\n",
      "[Open3D DEBUG] #     Got normal field: 2.487 (s), 1455.48 (MB) / 1455.48 (MB) / 1455 (MB)\n",
      "[Open3D DEBUG] Point weight / Estimated Area: 3.236887e-06 / 3.906903e+00\n",
      "[Open3D DEBUG] #       Finalized tree: 3.045 (s), 1723.73 (MB) / 1723.73 (MB) / 2030 (MB)\n",
      "[Open3D DEBUG] #  Set FEM constraints: 7.152 (s), 1510.56 (MB) / 1723.73 (MB) / 2030 (MB)\n",
      "[Open3D DEBUG] #Set point constraints: 1.134 (s), 1377.22 (MB) / 1723.73 (MB) / 2030 (MB)\n",
      "[Open3D DEBUG] Leaf Nodes / Active Nodes / Ghost Nodes: 21681808 / 15147528 / 9631681\n",
      "[Open3D DEBUG] Memory Usage: 1377.230 MB\n",
      "[Open3D DEBUG] # Linear system solved: 10.341 (s), 1904.26 (MB) / 1904.26 (MB) / 2030 (MB)\n",
      "[Open3D DEBUG] Got average: 0.433 (s), 1396.17 (MB) / 1904.26 (MB) / 2030 (MB)\n",
      "[Open3D DEBUG] Iso-Value: 5.026067e-01 = 6.066433e+05 / 1.206994e+06\n",
      "[Open3D DEBUG] #          Total Solve:      43.3 (s),    2378.8 (MB)\n",
      "TriangleMesh with 2910495 points and 5823214 triangles.\n"
     ]
    }
   ],
   "source": [
    "print('run Poisson surface reconstruction')\n",
    "with o3d.utility.VerbosityContextManager(o3d.utility.VerbosityLevel.Debug) as cm:\n",
    "    mesh, densities = o3d.geometry.TriangleMesh.create_from_point_cloud_poisson(pcd, depth=10)\n",
    "print(mesh)\n",
    "o3d.visualization.draw_geometries([mesh])"
   ]
  },
  {
   "cell_type": "code",
   "execution_count": null,
   "metadata": {},
   "outputs": [],
   "source": []
  }
 ],
 "metadata": {
  "kernelspec": {
   "display_name": "Python 3",
   "language": "python",
   "name": "python3"
  },
  "language_info": {
   "codemirror_mode": {
    "name": "ipython",
    "version": 3
   },
   "file_extension": ".py",
   "mimetype": "text/x-python",
   "name": "python",
   "nbconvert_exporter": "python",
   "pygments_lexer": "ipython3",
   "version": "3.7.8"
  }
 },
 "nbformat": 4,
 "nbformat_minor": 4
}
